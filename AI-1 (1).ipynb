{
 "cells": [
  {
   "cell_type": "code",
   "execution_count": 48,
   "id": "80dc412d-3450-46bd-a877-87cbb90d009b",
   "metadata": {},
   "outputs": [
    {
     "name": "stdout",
     "output_type": "stream",
     "text": [
      "[[2 4 6]\n",
      " [6 6 5]\n",
      " [3 5 3]]\n"
     ]
    }
   ],
   "source": [
    "#create matrix\n",
    "import numpy as np\n",
    "matrix=np.array([[2,4,6],[6,6,5],[3,5,3]])\n",
    "print(matrix)"
   ]
  },
  {
   "cell_type": "code",
   "execution_count": 56,
   "id": "e1adc3c1-140d-4d94-9a0a-e98957dfe65c",
   "metadata": {},
   "outputs": [
    {
     "name": "stdout",
     "output_type": "stream",
     "text": [
      "4.444444444444445\n",
      "5.0\n",
      "ModeResult(mode=array([2, 6, 3], dtype=int64), count=array([1, 2, 2], dtype=int64))\n",
      "46.0\n",
      "[[-0.15217391  0.39130435 -0.34782609]\n",
      " [-0.06521739 -0.26086957  0.56521739]\n",
      " [ 0.26086957  0.04347826 -0.26086957]]\n"
     ]
    }
   ],
   "source": [
    "#mean\n",
    "mean=np.mean(matrix)\n",
    "print(mean)\n",
    "\n",
    "#median\n",
    "median=np.median(matrix)\n",
    "print(median)\n",
    "\n",
    "#mode\n",
    "from scipy import stats\n",
    "mode=stats.mode(matrix,axis=1)  #axis=0 for column,axis=1 for row\n",
    "print(mode)\n",
    "\n",
    "#determinant\n",
    "determinant=np.linalg.det(matrix)\n",
    "print(determinant)\n",
    "\n",
    "#inverse\n",
    "inverse=np.linalg.inv(matrix)\n",
    "print(inverse)"
   ]
  },
  {
   "cell_type": "code",
   "execution_count": null,
   "id": "ed9d60fb-804c-4614-8aed-32616c3a651b",
   "metadata": {},
   "outputs": [],
   "source": [
    "#inverse formula - https://byjus.com/maths/inverse-matrix/"
   ]
  }
 ],
 "metadata": {
  "kernelspec": {
   "display_name": "Python 3 (ipykernel)",
   "language": "python",
   "name": "python3"
  },
  "language_info": {
   "codemirror_mode": {
    "name": "ipython",
    "version": 3
   },
   "file_extension": ".py",
   "mimetype": "text/x-python",
   "name": "python",
   "nbconvert_exporter": "python",
   "pygments_lexer": "ipython3",
   "version": "3.12.4"
  }
 },
 "nbformat": 4,
 "nbformat_minor": 5
}
