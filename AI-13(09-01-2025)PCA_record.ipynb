{
 "cells": [
  {
   "cell_type": "markdown",
   "id": "6acf9c27-0afa-489a-bba6-a2a60c9ff200",
   "metadata": {},
   "source": [
    "# Principle Component Analysis"
   ]
  },
  {
   "cell_type": "code",
   "execution_count": 37,
   "id": "11e94ba5-a097-4edf-b31f-285478a68af7",
   "metadata": {},
   "outputs": [
    {
     "name": "stdout",
     "output_type": "stream",
     "text": [
      "Formatted Array:\n",
      "     6.1101    17.592\n",
      "0    5.5277   9.13020\n",
      "1    8.5186  13.66200\n",
      "2    7.0032  11.85400\n",
      "3    5.8598   6.82330\n",
      "4    8.3829  11.88600\n",
      "..      ...       ...\n",
      "91   5.8707   7.20290\n",
      "92   5.3054   1.98690\n",
      "93   8.2934   0.14454\n",
      "94  13.3940   9.05510\n",
      "95   5.4369   0.61705\n",
      "\n",
      "[96 rows x 2 columns]\n"
     ]
    }
   ],
   "source": [
    "import numpy as np\n",
    "import matplotlib.pyplot as plt\n",
    "import pandas as pd\n",
    "\n",
    "# Step 1: Create some sample data (replace this with your dataset)\n",
    "data = pd.read_csv('ex1data1.txt') # 100 samples with 3 features\n",
    "np.set_printoptions(precision=4, suppress=True)\n",
    "print(\"Formatted Array:\")\n",
    "print(data)"
   ]
  },
  {
   "cell_type": "code",
   "execution_count": 41,
   "id": "75fad416-8687-4403-88c2-75f50957c861",
   "metadata": {},
   "outputs": [
    {
     "name": "stdout",
     "output_type": "stream",
     "text": [
      "6.1101    8.181151\n",
      "17.592    5.716709\n",
      "dtype: float64\n",
      "      6.1101    17.592\n",
      "0  -2.653451  3.413491\n",
      "1   0.337449  7.945291\n",
      "2  -1.177951  6.137291\n",
      "3  -2.321351  1.106591\n",
      "4   0.201749  6.169291\n",
      "..       ...       ...\n",
      "91 -2.310451  1.486191\n",
      "92 -2.875751 -3.729809\n",
      "93  0.112249 -5.572169\n",
      "94  5.212849  3.338391\n",
      "95 -2.744251 -5.099659\n",
      "\n",
      "[96 rows x 2 columns]\n"
     ]
    }
   ],
   "source": [
    "# Step 2: Standardize the data\n",
    "mean = np.mean(data, axis=0)\n",
    "\n",
    "#std_dev = np.std(data, axis=0)\n",
    "standardized_data = (data - mean)\n",
    "print (mean)\n",
    "print(standardized_data)"
   ]
  },
  {
   "cell_type": "code",
   "execution_count": 43,
   "id": "730029fb-f746-41b9-841d-b6c95da05a42",
   "metadata": {},
   "outputs": [
    {
     "name": "stdout",
     "output_type": "stream",
     "text": [
      "4 (2, 2)\n",
      "[[15.089  18.3112]\n",
      " [18.3112 29.2135]]\n"
     ]
    }
   ],
   "source": [
    "# Step 3: Compute the covariance matrix\n",
    "covariance_matrix = np.cov(standardized_data,rowvar=False)\n",
    "size_cc = covariance_matrix.size\n",
    "shape_cc = covariance_matrix.shape\n",
    "print(size_cc, shape_cc)\n",
    "print(covariance_matrix)"
   ]
  },
  {
   "cell_type": "code",
   "execution_count": 45,
   "id": "2aeef713-a90d-4a84-847a-cad476f699cc",
   "metadata": {},
   "outputs": [
    {
     "name": "stdout",
     "output_type": "stream",
     "text": [
      "[ 2.5254 41.7771]\n",
      "[[-0.8246  0.5658]\n",
      " [ 0.5658  0.8246]]\n"
     ]
    }
   ],
   "source": [
    "# Step 4: Compute the eigenvalues and eigenvectors of the covariance matrix\n",
    "eigenvalues, eigenvectors = np.linalg.eigh(covariance_matrix)\n",
    "print(eigenvalues)\n",
    "print(eigenvectors)"
   ]
  },
  {
   "cell_type": "code",
   "execution_count": 47,
   "id": "4986b86e-9908-4430-b0e3-4e7fa803098e",
   "metadata": {},
   "outputs": [
    {
     "name": "stdout",
     "output_type": "stream",
     "text": [
      "[41.7771  2.5254]\n",
      "[[ 0.5658 -0.8246]\n",
      " [ 0.8246  0.5658]]\n"
     ]
    }
   ],
   "source": [
    "# Step 5: Sort eigenvalues and corresponding eigenvectors in descending order\n",
    "sorted_indices = np.argsort(eigenvalues)[::-1]\n",
    "eigenvalues = eigenvalues[sorted_indices]\n",
    "eigenvectors = eigenvectors[:,sorted_indices]\n",
    "print(eigenvalues)\n",
    "print(eigenvectors)"
   ]
  },
  {
   "cell_type": "code",
   "execution_count": 49,
   "id": "9a2b5ddf-b6b7-492d-9d5f-154c67d5b4e9",
   "metadata": {},
   "outputs": [
    {
     "name": "stdout",
     "output_type": "stream",
     "text": [
      "Final Result afterPCA:\n",
      "[[ 1.3135]\n",
      " [ 6.7424]\n",
      " [ 4.3942]\n",
      " [-0.4008]\n",
      " [ 5.2012]\n",
      " [-1.5271]\n",
      " [ 5.4056]\n",
      " [-0.2317]\n",
      " [-3.3356]\n",
      " [-3.4298]\n",
      " [11.456 ]\n",
      " [-3.4967]\n",
      " [ 1.3729]\n",
      " [-5.5606]\n",
      " [-3.4023]\n",
      " [-1.3669]\n",
      " [-5.9776]\n",
      " [-2.6936]\n",
      " [-0.8982]\n",
      " [-3.2529]\n",
      " [20.074 ]\n",
      " [-2.7212]\n",
      " [-1.4859]\n",
      " [-3.6523]\n",
      " [20.0425]\n",
      " [ 9.0477]\n",
      " [ 2.6671]\n",
      " [10.2266]\n",
      " [23.1301]\n",
      " [-7.3768]\n",
      " [-0.6697]\n",
      " [ 5.8952]\n",
      " [-4.484 ]\n",
      " [ 0.698 ]\n",
      " [-1.0921]\n",
      " [-1.3678]\n",
      " [-3.373 ]\n",
      " [ 6.2619]\n",
      " [-1.2149]\n",
      " [-5.8245]\n",
      " [-2.2232]\n",
      " [ 1.7221]\n",
      " [-4.0634]\n",
      " [ 0.6354]\n",
      " [-4.4667]\n",
      " [-2.2408]\n",
      " [-4.5397]\n",
      " [ 3.8771]\n",
      " [-5.3679]\n",
      " [ 0.4897]\n",
      " [-4.8226]\n",
      " [-1.6061]\n",
      " [-0.9196]\n",
      " [-4.5859]\n",
      " [-6.9166]\n",
      " [-3.7514]\n",
      " [-2.3552]\n",
      " [-0.8078]\n",
      " [ 0.4704]\n",
      " [-0.0868]\n",
      " [-7.0246]\n",
      " [17.4801]\n",
      " [ 9.0313]\n",
      " [15.446 ]\n",
      " [-1.2304]\n",
      " [ 0.0871]\n",
      " [ 2.8601]\n",
      " [-5.3922]\n",
      " [19.4751]\n",
      " [ 1.9002]\n",
      " [-1.8732]\n",
      " [-4.8902]\n",
      " [-2.4993]\n",
      " [-8.7088]\n",
      " [-5.3932]\n",
      " [-1.8743]\n",
      " [-1.7917]\n",
      " [ 2.0382]\n",
      " [-4.756 ]\n",
      " [-5.7056]\n",
      " [-6.2386]\n",
      " [-5.187 ]\n",
      " [ 2.4045]\n",
      " [-1.2498]\n",
      " [-1.0263]\n",
      " [ 1.4569]\n",
      " [-5.1824]\n",
      " [-6.0938]\n",
      " [-4.1535]\n",
      " [-4.5918]\n",
      " [-1.4796]\n",
      " [-0.0817]\n",
      " [-4.7025]\n",
      " [-4.5312]\n",
      " [ 5.7019]\n",
      " [-5.7576]]\n"
     ]
    }
   ],
   "source": [
    "# Step 6: Choose the number of components (or a threshold for explained variance)\n",
    "n_components = 1 # Choose the number of principal components\n",
    "\n",
    "# Step 7: Select the top 'n_components' eigenvectors\n",
    "selected_eigenvectors = eigenvectors[:, :n_components]\n",
    "\n",
    "# Step 8: Project the data onto the selected eigenvectors to obtain the principalcomponents\n",
    "final_result = np.dot(standardized_data, selected_eigenvectors)\n",
    "\n",
    "# Step 9: Print the final result\n",
    "print(\"Final Result afterPCA:\")\n",
    "print(final_result)"
   ]
  },
  {
   "cell_type": "code",
   "execution_count": null,
   "id": "1a115f28-21a8-4a06-8b3d-ec8f73f86175",
   "metadata": {},
   "outputs": [],
   "source": []
  }
 ],
 "metadata": {
  "kernelspec": {
   "display_name": "Python 3 (ipykernel)",
   "language": "python",
   "name": "python3"
  },
  "language_info": {
   "codemirror_mode": {
    "name": "ipython",
    "version": 3
   },
   "file_extension": ".py",
   "mimetype": "text/x-python",
   "name": "python",
   "nbconvert_exporter": "python",
   "pygments_lexer": "ipython3",
   "version": "3.12.4"
  }
 },
 "nbformat": 4,
 "nbformat_minor": 5
}
